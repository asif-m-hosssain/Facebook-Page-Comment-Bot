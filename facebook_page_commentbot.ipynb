{
  "nbformat": 4,
  "nbformat_minor": 0,
  "metadata": {
    "colab": {
      "provenance": []
    },
    "kernelspec": {
      "name": "python3",
      "display_name": "Python 3"
    },
    "language_info": {
      "name": "python"
    }
  },
  "cells": [
    {
      "cell_type": "code",
      "source": [
        "!pip install matplotlib"
      ],
      "metadata": {
        "id": "3OVwep7PCHrf"
      },
      "execution_count": null,
      "outputs": []
    },
    {
      "cell_type": "code",
      "source": [
        "!pip install nltk"
      ],
      "metadata": {
        "id": "tICKncoeCQ1T"
      },
      "execution_count": null,
      "outputs": []
    },
    {
      "cell_type": "code",
      "source": [
        "from google.colab import drive\n",
        "drive.mount('/content/drive')"
      ],
      "metadata": {
        "id": "1im23wcFCN6l"
      },
      "execution_count": null,
      "outputs": []
    },
    {
      "cell_type": "code",
      "source": [
        "#Importing necessary libraries\n",
        "import requests\n",
        "import json\n",
        "import nltk\n",
        "from nltk.sentiment.vader import SentimentIntensityAnalyzer\n",
        "import numpy as np\n",
        "import matplotlib.pyplot as plt"
      ],
      "metadata": {
        "id": "a7UgjXBWCYN0"
      },
      "execution_count": null,
      "outputs": []
    },
    {
      "cell_type": "code",
      "source": [
        "nltk.download('vader_lexicon')"
      ],
      "metadata": {
        "id": "KUwiVqCpCa42"
      },
      "execution_count": null,
      "outputs": []
    },
    {
      "cell_type": "code",
      "source": [
        "# Function to get Facebook page posts\n",
        "def get_page_posts(page_id, access_token):\n",
        "    base_url = f\"https://graph.facebook.com/v18.0/{page_id}/posts\"\n",
        "    params = {'access_token': access_token, 'fields': 'id,message,comments{message,from}'}\n",
        "    response = requests.get(base_url, params=params)\n",
        "    return response.json()\n",
        "\n"
      ],
      "metadata": {
        "id": "a5QdSAd8CcO1"
      },
      "execution_count": null,
      "outputs": []
    },
    {
      "cell_type": "code",
      "source": [
        "# Function to extract comments from posts\n",
        "def extract_comments(post):\n",
        "    post_id = post.get('id', '')\n",
        "    comments = post.get('comments', {}).get('data', [])\n",
        "\n",
        "    extracted_comments = []\n",
        "\n",
        "    for comment in comments:\n",
        "        commenter_name = comment.get('from', {}).get('name', 'Unknown User')\n",
        "        comment_message = comment.get('message', 'No Comment Message')\n",
        "        comment_id = comment.get('id', 'No Comment ID')\n",
        "\n",
        "        comment_details = {\n",
        "            'post_id': post_id,\n",
        "            'comment_id': comment_id,\n",
        "            'commenter_name': commenter_name,\n",
        "            'comment_message': comment_message\n",
        "        }\n",
        "\n",
        "        extracted_comments.append(comment_details)\n",
        "\n",
        "    return extracted_comments"
      ],
      "metadata": {
        "id": "Cy8YFMQLCheH"
      },
      "execution_count": null,
      "outputs": []
    },
    {
      "cell_type": "code",
      "source": [
        "# Function to post a reply to a comment\n",
        "def post_comment_reply(comment_id, message, access_token):\n",
        "    base_url = f\"https://graph.facebook.com/v18.0/{comment_id}/comments\"\n",
        "    params = {'message': message, 'access_token': access_token}\n",
        "    response = requests.post(base_url, params=params)\n",
        "    return response.json()\n"
      ],
      "metadata": {
        "id": "KSLpe2ERClb2"
      },
      "execution_count": null,
      "outputs": []
    },
    {
      "cell_type": "code",
      "source": [
        "# Function to initialize sentiment distribution values\n",
        "def initialize_sentiment_distribution():\n",
        "    return {\n",
        "        \"Positive High\": 0,\n",
        "        \"Positive Medium\": 0,\n",
        "        \"Negative High\": 0,\n",
        "        \"Negative Medium\": 0,\n",
        "        \"Neutral\": 0,\n",
        "    }"
      ],
      "metadata": {
        "id": "QoDtq6HMJyrJ"
      },
      "execution_count": null,
      "outputs": []
    },
    {
      "cell_type": "code",
      "source": [
        "# Function to initialize sentiment reply data\n",
        "def initialize_reply_data():\n",
        "    return {\n",
        "    \"positive_high\": \"We're thrilled to hear that you had such a positive experience! Thank you for your kind words!\",\n",
        "    \"positive_medium\": \"Thank you for your positive comment! We appreciate your feedback!\",\n",
        "    \"negative_high\": \"We're sorry to hear that you're not satisfied. Our team will look into this issue as soon as possible.\",\n",
        "    \"negative_medium\": \"We appreciate your feedback, and we're sorry for any inconvenience caused. Please let us know how we can improve.\",\n",
        "    \"neutral\": \"Thanks for your comment! Your feedback is very important to us.\"\n",
        "    }"
      ],
      "metadata": {
        "id": "R0G4aYqcJ_Ad"
      },
      "execution_count": null,
      "outputs": []
    },
    {
      "cell_type": "code",
      "source": [
        "# Function to perform sentinment analysis and choose replies accordingly\n",
        "def perform_sentiment_analysis(comments, replied_comments, reply_data, sentiment_distribution, sid, access_token):\n",
        "    for comment_details in comments:\n",
        "        comment_id = comment_details['comment_id']\n",
        "\n",
        "        # Skip if already replied to this comment\n",
        "        if comment_id in replied_comments:\n",
        "            continue\n",
        "\n",
        "        commenter_name = comment_details['commenter_name']\n",
        "\n",
        "        # Check case, to avoid replying to myself (page account)\n",
        "        if commenter_name != 'Jaeger':\n",
        "\n",
        "            comment_message = comment_details['comment_message']\n",
        "            sentiment_score = sid.polarity_scores(comment_message)['compound']\n",
        "\n",
        "            if sentiment_score > 0.5:\n",
        "                reply = reply_data['positive_high']\n",
        "                sentiment_distribution[\"Positive High\"] += 1\n",
        "            elif sentiment_score > 0.2:\n",
        "                reply = reply_data['positive_medium']\n",
        "                sentiment_distribution[\"Positive Medium\"] += 1\n",
        "            elif sentiment_score < -0.5:\n",
        "                reply = reply_data['negative_high']\n",
        "                sentiment_distribution[\"Negative High\"] += 1\n",
        "            elif sentiment_score < -0.2:\n",
        "                reply = reply_data['negative_medium']\n",
        "                sentiment_distribution[\"Negative Medium\"] += 1\n",
        "            else:\n",
        "                reply = reply_data['neutral']\n",
        "                sentiment_distribution[\"Neutral\"] += 1\n",
        "\n",
        "            print(f\"Post ID: {comment_details['post_id']}\")\n",
        "            print(f\"Comment ID: {comment_details['comment_id']}\")\n",
        "            print(f\"Commenter: {comment_details['commenter_name']}\")\n",
        "            print(f\"Comment: {comment_details['comment_message']}\")\n",
        "            print(f\"Sentiment Score: {sentiment_score}\")\n",
        "            print(f\"Reply: {reply}\")\n",
        "\n",
        "            # posting comment reply using the designated function\n",
        "            response = post_comment_reply(comment_id, reply, access_token)\n",
        "\n",
        "            # Real time update to check execution\n",
        "            if 'id' in response:\n",
        "                replied_comments.add(comment_id)\n",
        "                print(\"Reply successfully posted.\")\n",
        "            else:\n",
        "                print(\"Failed to post reply. Please check and try again.\")\n",
        "\n",
        "            print('-' * 50)\n"
      ],
      "metadata": {
        "id": "n5GdrEmcH8kR"
      },
      "execution_count": null,
      "outputs": []
    },
    {
      "cell_type": "code",
      "source": [
        "def plot_pie_chart(sentiment_distribution):\n",
        "    labels = sentiment_distribution.keys()\n",
        "    sizes = sentiment_distribution.values()\n",
        "\n",
        "    #Handling Value Error\n",
        "    zero_count = list(sentiment_distribution.values()).count(0)\n",
        "\n",
        "    if zero_count != len(sentiment_distribution):\n",
        "        plt.title(\"Overall sentiment distribution of comments for all posts made\")\n",
        "        plt.pie(x=sizes, labels=None, autopct=lambda p: f'{p:.1f}%' if p > 0 else '', startangle=90)\n",
        "        plt.legend(labels, loc=\"best\", bbox_to_anchor=(1, 1))\n",
        "    else:\n",
        "      return (\"Empty data\")\n"
      ],
      "metadata": {
        "id": "-D75PLxbJFe2"
      },
      "execution_count": null,
      "outputs": []
    },
    {
      "cell_type": "code",
      "source": [
        "# Initializion for Sentiment analysis\n",
        "reply_data =  initialize_reply_data()\n",
        "sentiment_distribution = initialize_sentiment_distribution()\n",
        "sid = SentimentIntensityAnalyzer()"
      ],
      "metadata": {
        "id": "-n6P2fmqNxs7"
      },
      "execution_count": null,
      "outputs": []
    },
    {
      "cell_type": "code",
      "source": [
        "#file paths\n",
        "facebook_data_path = f\"/content/drive/My Drive/aim_t1/facebook_data.json\"\n",
        "replied_comments_path = f\"/content/drive/My Drive/aim_t1/replied_comments2.txt\""
      ],
      "metadata": {
        "id": "F6LmSjpBCWQn"
      },
      "execution_count": null,
      "outputs": []
    },
    {
      "cell_type": "code",
      "source": [
        "# Intializing access token and page id\n",
        "#-----------------------------------------\n",
        "# These credentials are feteched using Facebook Developers App\n",
        "# by the help of GRAPH API\n",
        "# ** I removed mine for privacy reasons, but the code works! **\n",
        "\n",
        "access_token = \"xxxxxxxxx\" # Enter your access token\n",
        "page_id = \"xxxxxxxxx\" # Enter your page id"
      ],
      "metadata": {
        "id": "0aR4L3zqJgci"
      },
      "execution_count": null,
      "outputs": []
    },
    {
      "cell_type": "code",
      "source": [
        "# Load already replied comments from a file (if exists)\n",
        "replied_comments = set()\n",
        "try:\n",
        "    with open(replied_comments_path, \"r\") as file:\n",
        "        replied_comments = set(file.read().splitlines())\n",
        "except FileNotFoundError:\n",
        "    replied_comments = set()\n",
        "\n",
        "# Getting posts from the Facebook page\n",
        "json_data = get_page_posts(page_id, access_token)\n",
        "\n",
        "# Writing the received json response to a text file\n",
        "with open(facebook_data_path, \"w\", encoding=\"utf-8\") as file:\n",
        "    json.dump(json_data, file, ensure_ascii=False, indent=2)\n",
        "\n",
        "\n",
        "# Extracting comments from each post and perform sentiment analysis with VADER\n",
        "for post in json_data.get('data', []):  # if data doesn't exist empty array will be returned\n",
        "    comments = extract_comments(post)\n",
        "\n",
        "    perform_sentiment_analysis(comments, replied_comments, reply_data, sentiment_distribution, sid, access_token)\n",
        "\n",
        "# Saving replied comments to file after the entire script execution\n",
        "with open(replied_comments_path, \"w\") as file:\n",
        "    file.write(\"\\n\".join(replied_comments))\n"
      ],
      "metadata": {
        "colab": {
          "base_uri": "https://localhost:8080/"
        },
        "id": "vGkYe80qJbm6",
        "outputId": "bd26c5d1-f1e0-4b22-bbe9-5bc5dca70930"
      },
      "execution_count": null,
      "outputs": [
        {
          "output_type": "stream",
          "name": "stdout",
          "text": [
            "Post ID: 140935059114006_122097283094158880\n",
            "Comment ID: 122097283094158880_680686090911146\n",
            "Commenter: Ishraq Nur\n",
            "Comment: Not good enough\n",
            "Sentiment Score: -0.3412\n",
            "Reply: We appreciate your feedback, and we're sorry for any inconvenience caused. Please let us know how we can improve.\n",
            "Reply successfully posted.\n",
            "--------------------------------------------------\n",
            "Post ID: 140935059114006_122097283094158880\n",
            "Comment ID: 122097283094158880_375651791514018\n",
            "Commenter: Ishraq Nur\n",
            "Comment: Needs more work\n",
            "Sentiment Score: 0.0\n",
            "Reply: Thanks for your comment! Your feedback is very important to us.\n",
            "Reply successfully posted.\n",
            "--------------------------------------------------\n",
            "Post ID: 140935059114006_122097283094158880\n",
            "Comment ID: 122097283094158880_1098758298151900\n",
            "Commenter: Ishraq Nur\n",
            "Comment: Best product\n",
            "Sentiment Score: 0.6369\n",
            "Reply: We're thrilled to hear that you had such a positive experience! Thank you for your kind words!\n",
            "Reply successfully posted.\n",
            "--------------------------------------------------\n",
            "Post ID: 140935059114006_122097283094158880\n",
            "Comment ID: 122097283094158880_355091593774640\n",
            "Commenter: Asif Hossain\n",
            "Comment: Expected better from you guys\n",
            "Sentiment Score: 0.4404\n",
            "Reply: Thank you for your positive comment! We appreciate your feedback!\n",
            "Reply successfully posted.\n",
            "--------------------------------------------------\n",
            "Post ID: 140935059114006_122097283094158880\n",
            "Comment ID: 122097283094158880_326743666966159\n",
            "Commenter: Asif Hossain\n",
            "Comment: Not very good\n",
            "Sentiment Score: -0.3865\n",
            "Reply: We appreciate your feedback, and we're sorry for any inconvenience caused. Please let us know how we can improve.\n",
            "Reply successfully posted.\n",
            "--------------------------------------------------\n",
            "Post ID: 140935059114006_122097283094158880\n",
            "Comment ID: 122097283094158880_1096700928151967\n",
            "Commenter: Asif Hossain\n",
            "Comment: Needs improvement\n",
            "Sentiment Score: 0.4588\n",
            "Reply: Thank you for your positive comment! We appreciate your feedback!\n",
            "Reply successfully posted.\n",
            "--------------------------------------------------\n",
            "Post ID: 140935059114006_122097283094158880\n",
            "Comment ID: 122097283094158880_756671679825752\n",
            "Commenter: Asif Hossain\n",
            "Comment: Really good product\n",
            "Sentiment Score: 0.4927\n",
            "Reply: Thank you for your positive comment! We appreciate your feedback!\n",
            "Reply successfully posted.\n",
            "--------------------------------------------------\n"
          ]
        }
      ]
    },
    {
      "cell_type": "code",
      "source": [
        "# Simple bar chart to show sentiment distribution\n",
        "plot_pie_chart(sentiment_distribution)"
      ],
      "metadata": {
        "colab": {
          "base_uri": "https://localhost:8080/",
          "height": 428
        },
        "id": "VU2Y16hAKpuG",
        "outputId": "4c717653-acec-4f99-cca1-b8b7cced348f"
      },
      "execution_count": null,
      "outputs": [
        {
          "output_type": "display_data",
          "data": {
            "text/plain": [
              "<Figure size 640x480 with 1 Axes>"
            ],
            "image/png": "[encoded data removed]"
          },
          "metadata": {}
        }
      ]
    }
  ]
}